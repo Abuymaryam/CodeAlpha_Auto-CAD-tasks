{
  "nbformat": 4,
  "nbformat_minor": 0,
  "metadata": {
    "colab": {
      "provenance": []
    },
    "kernelspec": {
      "name": "python3",
      "display_name": "Python 3"
    },
    "language_info": {
      "name": "python"
    },
    "widgets": {
      "application/vnd.jupyter.widget-state+json": {
        "404a31629c8b45a4aca5dad8dfeb594c": {
          "model_module": "@jupyter-widgets/controls",
          "model_name": "TextareaModel",
          "model_module_version": "1.5.0",
          "state": {
            "_dom_classes": [],
            "_model_module": "@jupyter-widgets/controls",
            "_model_module_version": "1.5.0",
            "_model_name": "TextareaModel",
            "_view_count": null,
            "_view_module": "@jupyter-widgets/controls",
            "_view_module_version": "1.5.0",
            "_view_name": "TextareaView",
            "continuous_update": true,
            "description": "Text:",
            "description_tooltip": null,
            "disabled": false,
            "layout": "IPY_MODEL_003949ea761347beab22a6bcb55b24e4",
            "placeholder": "Enter text here...",
            "rows": null,
            "style": "IPY_MODEL_ce7cbc4b01d2461cb87fa9896c5d34ca",
            "value": "bandar oy "
          }
        },
        "003949ea761347beab22a6bcb55b24e4": {
          "model_module": "@jupyter-widgets/base",
          "model_name": "LayoutModel",
          "model_module_version": "1.2.0",
          "state": {
            "_model_module": "@jupyter-widgets/base",
            "_model_module_version": "1.2.0",
            "_model_name": "LayoutModel",
            "_view_count": null,
            "_view_module": "@jupyter-widgets/base",
            "_view_module_version": "1.2.0",
            "_view_name": "LayoutView",
            "align_content": null,
            "align_items": null,
            "align_self": null,
            "border": null,
            "bottom": null,
            "display": null,
            "flex": null,
            "flex_flow": null,
            "grid_area": null,
            "grid_auto_columns": null,
            "grid_auto_flow": null,
            "grid_auto_rows": null,
            "grid_column": null,
            "grid_gap": null,
            "grid_row": null,
            "grid_template_areas": null,
            "grid_template_columns": null,
            "grid_template_rows": null,
            "height": "80px",
            "justify_content": null,
            "justify_items": null,
            "left": null,
            "margin": null,
            "max_height": null,
            "max_width": null,
            "min_height": null,
            "min_width": null,
            "object_fit": null,
            "object_position": null,
            "order": null,
            "overflow": null,
            "overflow_x": null,
            "overflow_y": null,
            "padding": null,
            "right": null,
            "top": null,
            "visibility": null,
            "width": "100%"
          }
        },
        "ce7cbc4b01d2461cb87fa9896c5d34ca": {
          "model_module": "@jupyter-widgets/controls",
          "model_name": "DescriptionStyleModel",
          "model_module_version": "1.5.0",
          "state": {
            "_model_module": "@jupyter-widgets/controls",
            "_model_module_version": "1.5.0",
            "_model_name": "DescriptionStyleModel",
            "_view_count": null,
            "_view_module": "@jupyter-widgets/base",
            "_view_module_version": "1.2.0",
            "_view_name": "StyleView",
            "description_width": ""
          }
        },
        "55ff13e5d2d845c38f6d778231261069": {
          "model_module": "@jupyter-widgets/controls",
          "model_name": "DropdownModel",
          "model_module_version": "1.5.0",
          "state": {
            "_dom_classes": [],
            "_model_module": "@jupyter-widgets/controls",
            "_model_module_version": "1.5.0",
            "_model_name": "DropdownModel",
            "_options_labels": [
              "English",
              "Urdu",
              "French",
              "German",
              "Spanish",
              "Chinese (Simplified)",
              "Arabic",
              "Hindi"
            ],
            "_view_count": null,
            "_view_module": "@jupyter-widgets/controls",
            "_view_module_version": "1.5.0",
            "_view_name": "DropdownView",
            "description": "From:",
            "description_tooltip": null,
            "disabled": false,
            "index": 0,
            "layout": "IPY_MODEL_48036996541d4ebe8a76b887bc59f82e",
            "style": "IPY_MODEL_c38b0a448dc34922aa07fe57765e171c"
          }
        },
        "48036996541d4ebe8a76b887bc59f82e": {
          "model_module": "@jupyter-widgets/base",
          "model_name": "LayoutModel",
          "model_module_version": "1.2.0",
          "state": {
            "_model_module": "@jupyter-widgets/base",
            "_model_module_version": "1.2.0",
            "_model_name": "LayoutModel",
            "_view_count": null,
            "_view_module": "@jupyter-widgets/base",
            "_view_module_version": "1.2.0",
            "_view_name": "LayoutView",
            "align_content": null,
            "align_items": null,
            "align_self": null,
            "border": null,
            "bottom": null,
            "display": null,
            "flex": null,
            "flex_flow": null,
            "grid_area": null,
            "grid_auto_columns": null,
            "grid_auto_flow": null,
            "grid_auto_rows": null,
            "grid_column": null,
            "grid_gap": null,
            "grid_row": null,
            "grid_template_areas": null,
            "grid_template_columns": null,
            "grid_template_rows": null,
            "height": null,
            "justify_content": null,
            "justify_items": null,
            "left": null,
            "margin": null,
            "max_height": null,
            "max_width": null,
            "min_height": null,
            "min_width": null,
            "object_fit": null,
            "object_position": null,
            "order": null,
            "overflow": null,
            "overflow_x": null,
            "overflow_y": null,
            "padding": null,
            "right": null,
            "top": null,
            "visibility": null,
            "width": null
          }
        },
        "c38b0a448dc34922aa07fe57765e171c": {
          "model_module": "@jupyter-widgets/controls",
          "model_name": "DescriptionStyleModel",
          "model_module_version": "1.5.0",
          "state": {
            "_model_module": "@jupyter-widgets/controls",
            "_model_module_version": "1.5.0",
            "_model_name": "DescriptionStyleModel",
            "_view_count": null,
            "_view_module": "@jupyter-widgets/base",
            "_view_module_version": "1.2.0",
            "_view_name": "StyleView",
            "description_width": ""
          }
        },
        "01091e882bd84590b4f4ec0ae4fc258c": {
          "model_module": "@jupyter-widgets/controls",
          "model_name": "DropdownModel",
          "model_module_version": "1.5.0",
          "state": {
            "_dom_classes": [],
            "_model_module": "@jupyter-widgets/controls",
            "_model_module_version": "1.5.0",
            "_model_name": "DropdownModel",
            "_options_labels": [
              "English",
              "Urdu",
              "French",
              "German",
              "Spanish",
              "Chinese (Simplified)",
              "Arabic",
              "Hindi"
            ],
            "_view_count": null,
            "_view_module": "@jupyter-widgets/controls",
            "_view_module_version": "1.5.0",
            "_view_name": "DropdownView",
            "description": "To:",
            "description_tooltip": null,
            "disabled": false,
            "index": 1,
            "layout": "IPY_MODEL_3860ee04cd334cd5927735af5f9d80ac",
            "style": "IPY_MODEL_0f35324926974741b09717d5ab26c08c"
          }
        },
        "3860ee04cd334cd5927735af5f9d80ac": {
          "model_module": "@jupyter-widgets/base",
          "model_name": "LayoutModel",
          "model_module_version": "1.2.0",
          "state": {
            "_model_module": "@jupyter-widgets/base",
            "_model_module_version": "1.2.0",
            "_model_name": "LayoutModel",
            "_view_count": null,
            "_view_module": "@jupyter-widgets/base",
            "_view_module_version": "1.2.0",
            "_view_name": "LayoutView",
            "align_content": null,
            "align_items": null,
            "align_self": null,
            "border": null,
            "bottom": null,
            "display": null,
            "flex": null,
            "flex_flow": null,
            "grid_area": null,
            "grid_auto_columns": null,
            "grid_auto_flow": null,
            "grid_auto_rows": null,
            "grid_column": null,
            "grid_gap": null,
            "grid_row": null,
            "grid_template_areas": null,
            "grid_template_columns": null,
            "grid_template_rows": null,
            "height": null,
            "justify_content": null,
            "justify_items": null,
            "left": null,
            "margin": null,
            "max_height": null,
            "max_width": null,
            "min_height": null,
            "min_width": null,
            "object_fit": null,
            "object_position": null,
            "order": null,
            "overflow": null,
            "overflow_x": null,
            "overflow_y": null,
            "padding": null,
            "right": null,
            "top": null,
            "visibility": null,
            "width": null
          }
        },
        "0f35324926974741b09717d5ab26c08c": {
          "model_module": "@jupyter-widgets/controls",
          "model_name": "DescriptionStyleModel",
          "model_module_version": "1.5.0",
          "state": {
            "_model_module": "@jupyter-widgets/controls",
            "_model_module_version": "1.5.0",
            "_model_name": "DescriptionStyleModel",
            "_view_count": null,
            "_view_module": "@jupyter-widgets/base",
            "_view_module_version": "1.2.0",
            "_view_name": "StyleView",
            "description_width": ""
          }
        },
        "478169596d414745af85d62ef210be3d": {
          "model_module": "@jupyter-widgets/controls",
          "model_name": "ButtonModel",
          "model_module_version": "1.5.0",
          "state": {
            "_dom_classes": [],
            "_model_module": "@jupyter-widgets/controls",
            "_model_module_version": "1.5.0",
            "_model_name": "ButtonModel",
            "_view_count": null,
            "_view_module": "@jupyter-widgets/controls",
            "_view_module_version": "1.5.0",
            "_view_name": "ButtonView",
            "button_style": "success",
            "description": "Translate ✅",
            "disabled": false,
            "icon": "",
            "layout": "IPY_MODEL_2c8247273ae84f3a91bc7bcd062b0880",
            "style": "IPY_MODEL_8e412bc0b2474bfaa2c686f72d68810d",
            "tooltip": ""
          }
        },
        "2c8247273ae84f3a91bc7bcd062b0880": {
          "model_module": "@jupyter-widgets/base",
          "model_name": "LayoutModel",
          "model_module_version": "1.2.0",
          "state": {
            "_model_module": "@jupyter-widgets/base",
            "_model_module_version": "1.2.0",
            "_model_name": "LayoutModel",
            "_view_count": null,
            "_view_module": "@jupyter-widgets/base",
            "_view_module_version": "1.2.0",
            "_view_name": "LayoutView",
            "align_content": null,
            "align_items": null,
            "align_self": null,
            "border": null,
            "bottom": null,
            "display": null,
            "flex": null,
            "flex_flow": null,
            "grid_area": null,
            "grid_auto_columns": null,
            "grid_auto_flow": null,
            "grid_auto_rows": null,
            "grid_column": null,
            "grid_gap": null,
            "grid_row": null,
            "grid_template_areas": null,
            "grid_template_columns": null,
            "grid_template_rows": null,
            "height": null,
            "justify_content": null,
            "justify_items": null,
            "left": null,
            "margin": null,
            "max_height": null,
            "max_width": null,
            "min_height": null,
            "min_width": null,
            "object_fit": null,
            "object_position": null,
            "order": null,
            "overflow": null,
            "overflow_x": null,
            "overflow_y": null,
            "padding": null,
            "right": null,
            "top": null,
            "visibility": null,
            "width": null
          }
        },
        "8e412bc0b2474bfaa2c686f72d68810d": {
          "model_module": "@jupyter-widgets/controls",
          "model_name": "ButtonStyleModel",
          "model_module_version": "1.5.0",
          "state": {
            "_model_module": "@jupyter-widgets/controls",
            "_model_module_version": "1.5.0",
            "_model_name": "ButtonStyleModel",
            "_view_count": null,
            "_view_module": "@jupyter-widgets/base",
            "_view_module_version": "1.2.0",
            "_view_name": "StyleView",
            "button_color": null,
            "font_weight": ""
          }
        },
        "a62f77bd8fcd482bbcebce9dd03f0079": {
          "model_module": "@jupyter-widgets/controls",
          "model_name": "ButtonModel",
          "model_module_version": "1.5.0",
          "state": {
            "_dom_classes": [],
            "_model_module": "@jupyter-widgets/controls",
            "_model_module_version": "1.5.0",
            "_model_name": "ButtonModel",
            "_view_count": null,
            "_view_module": "@jupyter-widgets/controls",
            "_view_module_version": "1.5.0",
            "_view_name": "ButtonView",
            "button_style": "warning",
            "description": "Clear ❌",
            "disabled": false,
            "icon": "",
            "layout": "IPY_MODEL_bd8a47d891254cd7b759bdb24b43d357",
            "style": "IPY_MODEL_583d880f5ced40dc855dc548e9354d16",
            "tooltip": ""
          }
        },
        "bd8a47d891254cd7b759bdb24b43d357": {
          "model_module": "@jupyter-widgets/base",
          "model_name": "LayoutModel",
          "model_module_version": "1.2.0",
          "state": {
            "_model_module": "@jupyter-widgets/base",
            "_model_module_version": "1.2.0",
            "_model_name": "LayoutModel",
            "_view_count": null,
            "_view_module": "@jupyter-widgets/base",
            "_view_module_version": "1.2.0",
            "_view_name": "LayoutView",
            "align_content": null,
            "align_items": null,
            "align_self": null,
            "border": null,
            "bottom": null,
            "display": null,
            "flex": null,
            "flex_flow": null,
            "grid_area": null,
            "grid_auto_columns": null,
            "grid_auto_flow": null,
            "grid_auto_rows": null,
            "grid_column": null,
            "grid_gap": null,
            "grid_row": null,
            "grid_template_areas": null,
            "grid_template_columns": null,
            "grid_template_rows": null,
            "height": null,
            "justify_content": null,
            "justify_items": null,
            "left": null,
            "margin": null,
            "max_height": null,
            "max_width": null,
            "min_height": null,
            "min_width": null,
            "object_fit": null,
            "object_position": null,
            "order": null,
            "overflow": null,
            "overflow_x": null,
            "overflow_y": null,
            "padding": null,
            "right": null,
            "top": null,
            "visibility": null,
            "width": null
          }
        },
        "583d880f5ced40dc855dc548e9354d16": {
          "model_module": "@jupyter-widgets/controls",
          "model_name": "ButtonStyleModel",
          "model_module_version": "1.5.0",
          "state": {
            "_model_module": "@jupyter-widgets/controls",
            "_model_module_version": "1.5.0",
            "_model_name": "ButtonStyleModel",
            "_view_count": null,
            "_view_module": "@jupyter-widgets/base",
            "_view_module_version": "1.2.0",
            "_view_name": "StyleView",
            "button_color": null,
            "font_weight": ""
          }
        },
        "e481bfef4ab8430c86037e17f1cc1e1e": {
          "model_module": "@jupyter-widgets/output",
          "model_name": "OutputModel",
          "model_module_version": "1.0.0",
          "state": {
            "_dom_classes": [],
            "_model_module": "@jupyter-widgets/output",
            "_model_module_version": "1.0.0",
            "_model_name": "OutputModel",
            "_view_count": null,
            "_view_module": "@jupyter-widgets/output",
            "_view_module_version": "1.0.0",
            "_view_name": "OutputView",
            "layout": "IPY_MODEL_1007022b5d584cbe869bd1dd8a75862c",
            "msg_id": "",
            "outputs": [
              {
                "output_type": "stream",
                "name": "stdout",
                "text": [
                  "🔹 Translated Text (Urdu):\n",
                  "\n",
                  "بندر اوئے\n"
                ]
              },
              {
                "output_type": "display_data",
                "data": {
                  "text/plain": "<IPython.lib.display.Audio object>",
                  "text/html": "\n                <audio  controls=\"controls\" >\n                    <source src=\"data:audio/mpeg;base64,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\" type=\"audio/mpeg\" />\n                    Your browser does not support the audio element.\n                </audio>\n              "
                },
                "metadata": {}
              }
            ]
          }
        },
        "1007022b5d584cbe869bd1dd8a75862c": {
          "model_module": "@jupyter-widgets/base",
          "model_name": "LayoutModel",
          "model_module_version": "1.2.0",
          "state": {
            "_model_module": "@jupyter-widgets/base",
            "_model_module_version": "1.2.0",
            "_model_name": "LayoutModel",
            "_view_count": null,
            "_view_module": "@jupyter-widgets/base",
            "_view_module_version": "1.2.0",
            "_view_name": "LayoutView",
            "align_content": null,
            "align_items": null,
            "align_self": null,
            "border": null,
            "bottom": null,
            "display": null,
            "flex": null,
            "flex_flow": null,
            "grid_area": null,
            "grid_auto_columns": null,
            "grid_auto_flow": null,
            "grid_auto_rows": null,
            "grid_column": null,
            "grid_gap": null,
            "grid_row": null,
            "grid_template_areas": null,
            "grid_template_columns": null,
            "grid_template_rows": null,
            "height": null,
            "justify_content": null,
            "justify_items": null,
            "left": null,
            "margin": null,
            "max_height": null,
            "max_width": null,
            "min_height": null,
            "min_width": null,
            "object_fit": null,
            "object_position": null,
            "order": null,
            "overflow": null,
            "overflow_x": null,
            "overflow_y": null,
            "padding": null,
            "right": null,
            "top": null,
            "visibility": null,
            "width": null
          }
        }
      }
    }
  },
  "cells": [
    {
      "cell_type": "code",
      "execution_count": 4,
      "metadata": {
        "colab": {
          "base_uri": "https://localhost:8080/",
          "height": 667,
          "referenced_widgets": [
            "404a31629c8b45a4aca5dad8dfeb594c",
            "003949ea761347beab22a6bcb55b24e4",
            "ce7cbc4b01d2461cb87fa9896c5d34ca",
            "55ff13e5d2d845c38f6d778231261069",
            "48036996541d4ebe8a76b887bc59f82e",
            "c38b0a448dc34922aa07fe57765e171c",
            "01091e882bd84590b4f4ec0ae4fc258c",
            "3860ee04cd334cd5927735af5f9d80ac",
            "0f35324926974741b09717d5ab26c08c",
            "478169596d414745af85d62ef210be3d",
            "2c8247273ae84f3a91bc7bcd062b0880",
            "8e412bc0b2474bfaa2c686f72d68810d",
            "a62f77bd8fcd482bbcebce9dd03f0079",
            "bd8a47d891254cd7b759bdb24b43d357",
            "583d880f5ced40dc855dc548e9354d16",
            "e481bfef4ab8430c86037e17f1cc1e1e",
            "1007022b5d584cbe869bd1dd8a75862c"
          ]
        },
        "id": "BQ4WJ5j7ghA_",
        "outputId": "6895915d-3107-4858-b055-78e28c07ae62"
      },
      "outputs": [
        {
          "output_type": "stream",
          "name": "stdout",
          "text": [
            "Requirement already satisfied: googletrans==4.0.0-rc1 in /usr/local/lib/python3.12/dist-packages (4.0.0rc1)\n",
            "Requirement already satisfied: gTTS in /usr/local/lib/python3.12/dist-packages (2.5.4)\n",
            "Requirement already satisfied: httpx==0.13.3 in /usr/local/lib/python3.12/dist-packages (from googletrans==4.0.0-rc1) (0.13.3)\n",
            "Requirement already satisfied: certifi in /usr/local/lib/python3.12/dist-packages (from httpx==0.13.3->googletrans==4.0.0-rc1) (2025.8.3)\n",
            "Requirement already satisfied: hstspreload in /usr/local/lib/python3.12/dist-packages (from httpx==0.13.3->googletrans==4.0.0-rc1) (2025.1.1)\n",
            "Requirement already satisfied: sniffio in /usr/local/lib/python3.12/dist-packages (from httpx==0.13.3->googletrans==4.0.0-rc1) (1.3.1)\n",
            "Requirement already satisfied: chardet==3.* in /usr/local/lib/python3.12/dist-packages (from httpx==0.13.3->googletrans==4.0.0-rc1) (3.0.4)\n",
            "Requirement already satisfied: idna==2.* in /usr/local/lib/python3.12/dist-packages (from httpx==0.13.3->googletrans==4.0.0-rc1) (2.10)\n",
            "Requirement already satisfied: rfc3986<2,>=1.3 in /usr/local/lib/python3.12/dist-packages (from httpx==0.13.3->googletrans==4.0.0-rc1) (1.5.0)\n",
            "Requirement already satisfied: httpcore==0.9.* in /usr/local/lib/python3.12/dist-packages (from httpx==0.13.3->googletrans==4.0.0-rc1) (0.9.1)\n",
            "Requirement already satisfied: h11<0.10,>=0.8 in /usr/local/lib/python3.12/dist-packages (from httpcore==0.9.*->httpx==0.13.3->googletrans==4.0.0-rc1) (0.9.0)\n",
            "Requirement already satisfied: h2==3.* in /usr/local/lib/python3.12/dist-packages (from httpcore==0.9.*->httpx==0.13.3->googletrans==4.0.0-rc1) (3.2.0)\n",
            "Requirement already satisfied: hyperframe<6,>=5.2.0 in /usr/local/lib/python3.12/dist-packages (from h2==3.*->httpcore==0.9.*->httpx==0.13.3->googletrans==4.0.0-rc1) (5.2.0)\n",
            "Requirement already satisfied: hpack<4,>=3.0 in /usr/local/lib/python3.12/dist-packages (from h2==3.*->httpcore==0.9.*->httpx==0.13.3->googletrans==4.0.0-rc1) (3.0.0)\n",
            "Requirement already satisfied: requests<3,>=2.27 in /usr/local/lib/python3.12/dist-packages (from gTTS) (2.32.3)\n",
            "Requirement already satisfied: click<8.2,>=7.1 in /usr/local/lib/python3.12/dist-packages (from gTTS) (8.1.8)\n",
            "Requirement already satisfied: charset-normalizer<4,>=2 in /usr/local/lib/python3.12/dist-packages (from requests<3,>=2.27->gTTS) (3.4.3)\n",
            "Requirement already satisfied: urllib3<3,>=1.21.1 in /usr/local/lib/python3.12/dist-packages (from requests<3,>=2.27->gTTS) (2.5.0)\n"
          ]
        },
        {
          "output_type": "display_data",
          "data": {
            "text/plain": [
              "Textarea(value='', description='Text:', layout=Layout(height='80px', width='100%'), placeholder='Enter text he…"
            ],
            "application/vnd.jupyter.widget-view+json": {
              "version_major": 2,
              "version_minor": 0,
              "model_id": "404a31629c8b45a4aca5dad8dfeb594c"
            }
          },
          "metadata": {}
        },
        {
          "output_type": "display_data",
          "data": {
            "text/plain": [
              "Dropdown(description='From:', options=('English', 'Urdu', 'French', 'German', 'Spanish', 'Chinese (Simplified)…"
            ],
            "application/vnd.jupyter.widget-view+json": {
              "version_major": 2,
              "version_minor": 0,
              "model_id": "55ff13e5d2d845c38f6d778231261069"
            }
          },
          "metadata": {}
        },
        {
          "output_type": "display_data",
          "data": {
            "text/plain": [
              "Dropdown(description='To:', index=1, options=('English', 'Urdu', 'French', 'German', 'Spanish', 'Chinese (Simp…"
            ],
            "application/vnd.jupyter.widget-view+json": {
              "version_major": 2,
              "version_minor": 0,
              "model_id": "01091e882bd84590b4f4ec0ae4fc258c"
            }
          },
          "metadata": {}
        },
        {
          "output_type": "display_data",
          "data": {
            "text/plain": [
              "Button(button_style='success', description='Translate ✅', style=ButtonStyle())"
            ],
            "application/vnd.jupyter.widget-view+json": {
              "version_major": 2,
              "version_minor": 0,
              "model_id": "478169596d414745af85d62ef210be3d"
            }
          },
          "metadata": {}
        },
        {
          "output_type": "display_data",
          "data": {
            "text/plain": [
              "Button(button_style='warning', description='Clear ❌', style=ButtonStyle())"
            ],
            "application/vnd.jupyter.widget-view+json": {
              "version_major": 2,
              "version_minor": 0,
              "model_id": "a62f77bd8fcd482bbcebce9dd03f0079"
            }
          },
          "metadata": {}
        },
        {
          "output_type": "display_data",
          "data": {
            "text/plain": [
              "Output()"
            ],
            "application/vnd.jupyter.widget-view+json": {
              "version_major": 2,
              "version_minor": 0,
              "model_id": "e481bfef4ab8430c86037e17f1cc1e1e"
            }
          },
          "metadata": {}
        }
      ],
      "source": [
        "# ============================================\n",
        "# 🚀 TASK 1: Language Translation Tool in Colab\n",
        "# ============================================\n",
        "\n",
        "# Install dependencies\n",
        "!pip install googletrans==4.0.0-rc1 gTTS\n",
        "\n",
        "# Import libraries\n",
        "import ipywidgets as widgets\n",
        "from IPython.display import display, clear_output, Audio\n",
        "from googletrans import Translator\n",
        "from gtts import gTTS\n",
        "import tempfile\n",
        "\n",
        "# Initialize translator\n",
        "translator = Translator()\n",
        "\n",
        "# Define available languages (you can extend this list)\n",
        "languages = {\n",
        "    \"English\": \"en\",\n",
        "    \"Urdu\": \"ur\",\n",
        "    \"French\": \"fr\",\n",
        "    \"German\": \"de\",\n",
        "    \"Spanish\": \"es\",\n",
        "    \"Chinese (Simplified)\": \"zh-cn\",\n",
        "    \"Arabic\": \"ar\",\n",
        "    \"Hindi\": \"hi\"\n",
        "}\n",
        "\n",
        "# Widgets for user input\n",
        "input_text = widgets.Textarea(\n",
        "    placeholder=\"Enter text here...\",\n",
        "    description=\"Text:\",\n",
        "    layout=widgets.Layout(width=\"100%\", height=\"80px\")\n",
        ")\n",
        "\n",
        "source_lang = widgets.Dropdown(\n",
        "    options=languages.keys(),\n",
        "    value=\"English\",\n",
        "    description=\"From:\"\n",
        ")\n",
        "\n",
        "target_lang = widgets.Dropdown(\n",
        "    options=languages.keys(),\n",
        "    value=\"Urdu\",\n",
        "    description=\"To:\"\n",
        ")\n",
        "\n",
        "translate_button = widgets.Button(\n",
        "    description=\"Translate ✅\",\n",
        "    button_style=\"success\"\n",
        ")\n",
        "\n",
        "clear_button = widgets.Button(\n",
        "    description=\"Clear ❌\",\n",
        "    button_style=\"warning\"\n",
        ")\n",
        "\n",
        "output_area = widgets.Output()\n",
        "\n",
        "# Function to handle translation\n",
        "def on_translate_clicked(b):\n",
        "    with output_area:\n",
        "        clear_output()\n",
        "        try:\n",
        "            src = languages[source_lang.value]\n",
        "            tgt = languages[target_lang.value]\n",
        "            translated = translator.translate(input_text.value, src=src, dest=tgt)\n",
        "\n",
        "            print(f\"🔹 Translated Text ({target_lang.value}):\\n\")\n",
        "            print(translated.text)\n",
        "\n",
        "            # Generate speech\n",
        "            tts = gTTS(translated.text, lang=tgt)\n",
        "            temp_file = tempfile.NamedTemporaryFile(delete=False, suffix=\".mp3\")\n",
        "            tts.save(temp_file.name)\n",
        "\n",
        "            display(Audio(temp_file.name, autoplay=False))\n",
        "\n",
        "        except Exception as e:\n",
        "            print(\"⚠️ Error:\", e)\n",
        "\n",
        "# Function to clear inputs\n",
        "def on_clear_clicked(b):\n",
        "    input_text.value = \"\"\n",
        "    with output_area:\n",
        "        clear_output()\n",
        "\n",
        "# Attach functions to buttons\n",
        "translate_button.on_click(on_translate_clicked)\n",
        "clear_button.on_click(on_clear_clicked)\n",
        "\n",
        "# Display UI\n",
        "display(input_text, source_lang, target_lang, translate_button, clear_button, output_area)\n"
      ]
    }
  ]
}