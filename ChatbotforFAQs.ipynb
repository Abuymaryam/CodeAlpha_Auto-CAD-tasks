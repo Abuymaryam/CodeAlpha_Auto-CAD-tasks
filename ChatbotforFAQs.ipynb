{
  "nbformat": 4,
  "nbformat_minor": 0,
  "metadata": {
    "colab": {
      "provenance": []
    },
    "kernelspec": {
      "name": "python3",
      "display_name": "Python 3"
    },
    "language_info": {
      "name": "python"
    }
  },
  "cells": [
    {
      "cell_type": "code",
      "execution_count": 4,
      "metadata": {
        "colab": {
          "base_uri": "https://localhost:8080/"
        },
        "id": "pj7P4XMxjfKj",
        "outputId": "cabeb52a-82e0-4360-d5d2-4c965f364338"
      },
      "outputs": [
        {
          "output_type": "stream",
          "name": "stdout",
          "text": [
            "Requirement already satisfied: nltk in /usr/local/lib/python3.12/dist-packages (3.9.1)\n",
            "Requirement already satisfied: scikit-learn in /usr/local/lib/python3.12/dist-packages (1.6.1)\n",
            "Requirement already satisfied: click in /usr/local/lib/python3.12/dist-packages (from nltk) (8.2.1)\n",
            "Requirement already satisfied: joblib in /usr/local/lib/python3.12/dist-packages (from nltk) (1.5.1)\n",
            "Requirement already satisfied: regex>=2021.8.3 in /usr/local/lib/python3.12/dist-packages (from nltk) (2024.11.6)\n",
            "Requirement already satisfied: tqdm in /usr/local/lib/python3.12/dist-packages (from nltk) (4.67.1)\n",
            "Requirement already satisfied: numpy>=1.19.5 in /usr/local/lib/python3.12/dist-packages (from scikit-learn) (2.0.2)\n",
            "Requirement already satisfied: scipy>=1.6.0 in /usr/local/lib/python3.12/dist-packages (from scikit-learn) (1.16.1)\n",
            "Requirement already satisfied: threadpoolctl>=3.1.0 in /usr/local/lib/python3.12/dist-packages (from scikit-learn) (3.6.0)\n"
          ]
        },
        {
          "output_type": "stream",
          "name": "stderr",
          "text": [
            "[nltk_data] Downloading package punkt to /root/nltk_data...\n",
            "[nltk_data]   Package punkt is already up-to-date!\n",
            "[nltk_data] Downloading package wordnet to /root/nltk_data...\n",
            "[nltk_data]   Package wordnet is already up-to-date!\n",
            "[nltk_data] Downloading package punkt_tab to /root/nltk_data...\n",
            "[nltk_data]   Package punkt_tab is already up-to-date!\n"
          ]
        },
        {
          "output_type": "stream",
          "name": "stdout",
          "text": [
            "Chatbot 🤖: Hello! Ask me anything (type 'bye' to exit)\n",
            "You: what is ai?\n",
            "Chatbot 🤖: AI stands for Artificial Intelligence. It enables machines to mimic human intelligence.\n",
            "You: what is ml?\n",
            "Chatbot 🤖: AI stands for Artificial Intelligence. It enables machines to mimic human intelligence.\n",
            "You: what is nlp?\n",
            "Chatbot 🤖: NLP means Natural Language Processing. It helps computers understand human language.\n",
            "You: bye\n",
            "Chatbot 🤖: Goodbye!\n"
          ]
        }
      ],
      "source": [
        "# 📌 Install required libraries\n",
        "# TASK 2: Chatbot for FAQs\n",
        "!pip install nltk scikit-learn\n",
        "\n",
        "# 📌 Import libraries\n",
        "import nltk\n",
        "import numpy as np\n",
        "from sklearn.feature_extraction.text import TfidfVectorizer\n",
        "from sklearn.metrics.pairwise import cosine_similarity\n",
        "\n",
        "nltk.download('punkt')\n",
        "nltk.download('wordnet')\n",
        "nltk.download('punkt_tab') # Add this line to download the missing resource\n",
        "\n",
        "from nltk.stem import WordNetLemmatizer\n",
        "\n",
        "# 📌 Preprocessing Function\n",
        "lemmatizer = WordNetLemmatizer()\n",
        "\n",
        "def preprocess(text):\n",
        "    tokens = nltk.word_tokenize(text.lower())\n",
        "    tokens = [lemmatizer.lemmatize(word) for word in tokens if word.isalnum()]\n",
        "    return \" \".join(tokens)\n",
        "\n",
        "# 📌 Example FAQ Dataset (You can expand this)\n",
        "faqs = {\n",
        "    \"What is AI?\": \"AI stands for Artificial Intelligence. It enables machines to mimic human intelligence.\",\n",
        "    \"What is NLP?\": \"NLP means Natural Language Processing. It helps computers understand human language.\",\n",
        "    \"What is Machine Learning?\": \"Machine Learning is a subset of AI where systems learn patterns from data.\",\n",
        "    \"How to contact support?\": \"You can reach support by emailing support@codealpha.tech.\",\n",
        "    \"What is Python?\": \"Python is a popular programming language used in AI, data science, and web development.\",\n",
        "    \"Who created ChatGPT?\": \"ChatGPT was developed by OpenAI.\"\n",
        "}\n",
        "\n",
        "# 📌 Preprocess FAQs\n",
        "questions = list(faqs.keys())\n",
        "answers = list(faqs.values())\n",
        "preprocessed_questions = [preprocess(q) for q in questions]\n",
        "\n",
        "# 📌 TF-IDF Vectorization\n",
        "vectorizer = TfidfVectorizer()\n",
        "X = vectorizer.fit_transform(preprocessed_questions)\n",
        "\n",
        "# 📌 Chatbot Function\n",
        "def chatbot_response(user_query):\n",
        "    user_query_processed = preprocess(user_query)\n",
        "    user_vec = vectorizer.transform([user_query_processed])\n",
        "\n",
        "    similarity = cosine_similarity(user_vec, X)\n",
        "    idx = similarity.argmax()\n",
        "    confidence = similarity[0][idx]\n",
        "\n",
        "    if confidence > 0.2:  # Threshold\n",
        "        return answers[idx]\n",
        "    else:\n",
        "        return \"🤖 Sorry, I don't understand your question. Can you rephrase?\"\n",
        "\n",
        "# 📌 Interactive Loop (for testing in Colab)\n",
        "print(\"Chatbot 🤖: Hello! Ask me anything (type 'bye' to exit)\")\n",
        "\n",
        "while True:\n",
        "    user_input = input(\"You: \")\n",
        "    if user_input.lower() in [\"bye\", \"exit\", \"quit\"]:\n",
        "        print(\"Chatbot 🤖: Goodbye!\")\n",
        "        break\n",
        "    response = chatbot_response(user_input)\n",
        "    print(\"Chatbot 🤖:\", response)"
      ]
    }
  ]
}